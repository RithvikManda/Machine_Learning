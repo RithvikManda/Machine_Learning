{
  "nbformat": 4,
  "nbformat_minor": 0,
  "metadata": {
    "colab": {
      "provenance": []
    },
    "kernelspec": {
      "name": "python3",
      "display_name": "Python 3"
    },
    "language_info": {
      "name": "python"
    }
  },
  "cells": [
    {
      "cell_type": "code",
      "execution_count": 1,
      "metadata": {
        "id": "XXBCHFeWpYxZ"
      },
      "outputs": [],
      "source": [
        "import numpy as np\n",
        "from sklearn.model_selection import train_test_split\n",
        "from sklearn.linear_model import LinearRegression\n",
        "from sklearn.metrics import mean_squared_error, r2_score"
      ]
    },
    {
      "cell_type": "code",
      "source": [
        "X= np.array([[1,2,3,4,5],[2,3,4,5,6],[3,4,5,6,7],[4,5,6,7,8],[5,6,7,8,9]])\n",
        "y=np.array([10,20,30,40,50])"
      ],
      "metadata": {
        "id": "DXlCT3C7pqYT"
      },
      "execution_count": 2,
      "outputs": []
    },
    {
      "cell_type": "code",
      "source": [
        "X_train,X_test,y_train,y_test=train_test_split(X,y,test_size=0.2,random_state=42)\n",
        "lr=LinearRegression()\n",
        "lr.fit(X_train,y_train)\n",
        "y_pred=lr.predict(X_test)\n",
        "mse=mean_squared_error(y_test,y_pred)\n",
        "print(mse)"
      ],
      "metadata": {
        "colab": {
          "base_uri": "https://localhost:8080/"
        },
        "id": "oLtBTHihp8gC",
        "outputId": "a87350b1-848b-42f0-f9a7-91016fde8114"
      },
      "execution_count": 4,
      "outputs": [
        {
          "output_type": "stream",
          "name": "stdout",
          "text": [
            "5.048709793414476e-29\n"
          ]
        }
      ]
    },
    {
      "cell_type": "code",
      "source": [
        "from sklearn.ensemble import RandomForestRegressor\n",
        "rf=RandomForestRegressor()\n",
        "rf.fit(X_train,y_train)\n",
        "y_pred=rf.predict(X_test)\n",
        "mse=mean_squared_error(y_test,y_pred)\n",
        "print(mse)"
      ],
      "metadata": {
        "colab": {
          "base_uri": "https://localhost:8080/"
        },
        "id": "8kecFTbnqJ6e",
        "outputId": "df505388-d7bb-42ee-a242-3fcab8f20103"
      },
      "execution_count": 5,
      "outputs": [
        {
          "output_type": "stream",
          "name": "stdout",
          "text": [
            "16.81\n"
          ]
        }
      ]
    },
    {
      "cell_type": "code",
      "source": [
        "from sklearn.tree import DecisionTreeRegressor\n",
        "dt=DecisionTreeRegressor()\n",
        "dt.fit(X_train,y_train)\n",
        "y_pred=dt.predict(X_test)\n",
        "mse=mean_squared_error(y_test,y_pred)\n",
        "print(mse)"
      ],
      "metadata": {
        "colab": {
          "base_uri": "https://localhost:8080/"
        },
        "id": "0xb7JnLgqgGK",
        "outputId": "f452acdc-86f6-4598-a6ec-af1e151a615c"
      },
      "execution_count": 7,
      "outputs": [
        {
          "output_type": "stream",
          "name": "stdout",
          "text": [
            "100.0\n"
          ]
        }
      ]
    },
    {
      "cell_type": "code",
      "source": [
        "import pandas as pd\n",
        "df = pd.DataFrame(X, columns=['Feature1', 'Feature2', 'Feature3', 'Feature4', 'Feature5'])\n",
        "df['Target'] = y\n",
        "df.plot(kind=\"scatter\",x=\"Feature2\",y=\"Target\")"
      ],
      "metadata": {
        "colab": {
          "base_uri": "https://localhost:8080/",
          "height": 466
        },
        "id": "Bc4hGeU7qyJ8",
        "outputId": "37a1a720-dbb5-48f9-f800-e69e0e054f41"
      },
      "execution_count": 13,
      "outputs": [
        {
          "output_type": "execute_result",
          "data": {
            "text/plain": [
              "<Axes: xlabel='Feature2', ylabel='Target'>"
            ]
          },
          "metadata": {},
          "execution_count": 13
        },
        {
          "output_type": "display_data",
          "data": {
            "text/plain": [
              "<Figure size 640x480 with 1 Axes>"
            ],
            "image/png": "[encoded data removed]"
          },
          "metadata": {}
        }
      ]
    },
    {
      "cell_type": "code",
      "source": [
        "#CLASSIFICATION AND CLUSTERING DATASET\n",
        "X1= np.array([[1,1,1,1,2],[1,1,1,3,2],[3,1,2,2,2],[3,3,3,3,3],[1,1,1,2,1]])\n",
        "y1=np.array([1,1,2,3,1])"
      ],
      "metadata": {
        "id": "RjGU1d-8q-G4"
      },
      "execution_count": 17,
      "outputs": []
    },
    {
      "cell_type": "code",
      "source": [
        "X_train,X_test,y_train,y_test=train_test_split(X1,y1,test_size=0.2,random_state=42)"
      ],
      "metadata": {
        "id": "UNUdRPrTr7EZ"
      },
      "execution_count": 18,
      "outputs": []
    },
    {
      "cell_type": "code",
      "source": [
        "from sklearn.linear_model import LogisticRegression\n",
        "lr=LogisticRegression()\n",
        "lr.fit(X_train,y_train)\n",
        "y_pred=lr.predict(X_test)\n",
        "r2=r2_score(y_test,y_pred)\n",
        "print(r2)"
      ],
      "metadata": {
        "colab": {
          "base_uri": "https://localhost:8080/"
        },
        "id": "KjNBizUtr8HU",
        "outputId": "eebf56c0-7c0b-44a4-eff9-697e7f5179c0"
      },
      "execution_count": 19,
      "outputs": [
        {
          "output_type": "stream",
          "name": "stdout",
          "text": [
            "nan\n"
          ]
        },
        {
          "output_type": "stream",
          "name": "stderr",
          "text": [
            "/usr/local/lib/python3.10/dist-packages/sklearn/metrics/_regression.py:918: UndefinedMetricWarning: R^2 score is not well-defined with less than two samples.\n",
            "  warnings.warn(msg, UndefinedMetricWarning)\n"
          ]
        }
      ]
    },
    {
      "cell_type": "code",
      "source": [
        "from sklearn.datasets import make_blobs\n",
        "X2,y2 = make_blobs(n_samples = 500,n_features = 2,centers = 3,random_state = 23)\n",
        "X_train,X_test,y_train,y_test=train_test_split(X2,y2,test_size=0.2,random_state=42)"
      ],
      "metadata": {
        "id": "2GcyJ9kxsG8t"
      },
      "execution_count": 21,
      "outputs": []
    },
    {
      "cell_type": "code",
      "source": [
        "from sklearn.cluster import KMeans\n",
        "kmeans=KMeans(n_clusters=3)\n",
        "kmeans.fit(X_train)\n",
        "y_pred=kmeans.predict(X_test)\n",
        "r2=r2_score(y_test,y_pred)\n",
        "print(r2)"
      ],
      "metadata": {
        "colab": {
          "base_uri": "https://localhost:8080/"
        },
        "id": "uhnFXd8It-TX",
        "outputId": "7f75eb2b-e078-4bac-cfa7-34dc0d7f86c4"
      },
      "execution_count": 22,
      "outputs": [
        {
          "output_type": "stream",
          "name": "stdout",
          "text": [
            "1.0\n"
          ]
        },
        {
          "output_type": "stream",
          "name": "stderr",
          "text": [
            "/usr/local/lib/python3.10/dist-packages/sklearn/cluster/_kmeans.py:870: FutureWarning: The default value of `n_init` will change from 10 to 'auto' in 1.4. Set the value of `n_init` explicitly to suppress the warning\n",
            "  warnings.warn(\n"
          ]
        }
      ]
    },
    {
      "cell_type": "code",
      "source": [
        "from sklearn.cluster import AgglomerativeClustering\n",
        "clustering = AgglomerativeClustering(n_clusters=3)\n",
        "\n",
        "# Fit and predict clusters\n",
        "labels = clustering.fit_predict(X_train)\n"
      ],
      "metadata": {
        "id": "pdAajUaHuOpy"
      },
      "execution_count": 27,
      "outputs": []
    },
    {
      "cell_type": "code",
      "source": [
        "labels"
      ],
      "metadata": {
        "colab": {
          "base_uri": "https://localhost:8080/"
        },
        "id": "2psrO94QutYP",
        "outputId": "b01afc5f-330e-4edf-e247-805827c38167"
      },
      "execution_count": 28,
      "outputs": [
        {
          "output_type": "execute_result",
          "data": {
            "text/plain": [
              "array([1, 1, 1, 0, 2, 1, 1, 0, 2, 0, 1, 0, 1, 0, 0, 2, 0, 1, 2, 1, 0, 0,\n",
              "       1, 0, 2, 0, 1, 0, 1, 1, 2, 0, 2, 2, 1, 0, 2, 2, 2, 2, 0, 1, 2, 2,\n",
              "       0, 2, 2, 2, 0, 0, 0, 1, 2, 0, 1, 1, 1, 1, 0, 1, 2, 1, 0, 1, 0, 2,\n",
              "       2, 1, 1, 0, 0, 1, 0, 0, 2, 1, 1, 2, 2, 1, 0, 2, 0, 2, 1, 2, 1, 0,\n",
              "       1, 0, 1, 1, 2, 1, 0, 1, 1, 2, 2, 0, 2, 2, 0, 1, 0, 0, 1, 2, 1, 0,\n",
              "       2, 1, 0, 2, 0, 1, 1, 2, 1, 1, 2, 0, 1, 1, 2, 1, 0, 0, 0, 1, 0, 0,\n",
              "       1, 2, 2, 0, 2, 2, 2, 2, 2, 2, 0, 2, 0, 2, 2, 2, 1, 1, 2, 1, 0, 0,\n",
              "       0, 2, 1, 2, 0, 2, 0, 1, 1, 1, 0, 0, 0, 0, 2, 1, 0, 1, 1, 0, 0, 0,\n",
              "       0, 2, 0, 0, 2, 0, 2, 1, 0, 0, 2, 2, 2, 2, 2, 2, 0, 1, 2, 2, 2, 1,\n",
              "       2, 2, 1, 1, 1, 1, 0, 2, 0, 0, 0, 0, 2, 1, 1, 1, 0, 1, 2, 1, 2, 1,\n",
              "       0, 1, 2, 2, 0, 0, 1, 2, 2, 1, 1, 0, 1, 2, 0, 2, 0, 1, 2, 1, 2, 0,\n",
              "       0, 0, 0, 2, 2, 2, 1, 2, 2, 2, 0, 2, 2, 2, 0, 2, 0, 2, 0, 1, 2, 1,\n",
              "       0, 2, 1, 1, 0, 1, 0, 0, 1, 1, 2, 1, 2, 0, 1, 1, 0, 1, 2, 0, 0, 1,\n",
              "       1, 0, 0, 2, 2, 1, 1, 0, 2, 2, 2, 0, 0, 2, 2, 1, 0, 1, 2, 1, 0, 1,\n",
              "       2, 2, 1, 1, 1, 1, 0, 0, 0, 2, 0, 2, 0, 2, 1, 0, 2, 0, 1, 1, 0, 2,\n",
              "       2, 1, 0, 1, 2, 0, 2, 2, 0, 2, 1, 2, 1, 0, 1, 0, 1, 2, 1, 0, 1, 2,\n",
              "       0, 1, 1, 0, 2, 2, 2, 2, 1, 1, 0, 0, 1, 1, 1, 0, 0, 0, 2, 1, 2, 0,\n",
              "       2, 2, 2, 2, 1, 0, 2, 0, 1, 1, 0, 0, 1, 2, 1, 2, 1, 1, 2, 2, 1, 1,\n",
              "       1, 2, 2, 0])"
            ]
          },
          "metadata": {},
          "execution_count": 28
        }
      ]
    },
    {
      "cell_type": "code",
      "source": [],
      "metadata": {
        "id": "JXLBxD0Qu5Z6"
      },
      "execution_count": null,
      "outputs": []
    }
  ]
}
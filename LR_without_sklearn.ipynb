{
 "cells": [
  {
   "cell_type": "code",
   "execution_count": 29,
   "id": "e485ac21-6cfd-4a24-ae0b-0e3c427ae5d1",
   "metadata": {},
   "outputs": [],
   "source": [
    "class LR:\n",
    "    \n",
    "    def __init__(self):\n",
    "        self.m = None\n",
    "        self.b = None\n",
    "        \n",
    "    def fit(self,X_train,y_train):\n",
    "        \n",
    "        num = 0\n",
    "        den = 0\n",
    "        \n",
    "        for i in range(X_train.shape[0]):\n",
    "            \n",
    "            num = num + ((X_train[i] - X_train.mean())*(y_train[i] - y_train.mean()))\n",
    "            den = den + ((X_train[i] - X_train.mean())*(X_train[i] - X_train.mean()))\n",
    "        \n",
    "        self.m = num/den\n",
    "        self.b = y_train.mean() - (self.m * X_train.mean())\n",
    "        print(self.m)\n",
    "        print(self.b)       \n",
    "    \n",
    "    def predict(self,X_test):\n",
    "        \n",
    "        print(X_test)\n",
    "        \n",
    "        return self.m * X_test + self.b"
   ]
  },
  {
   "cell_type": "code",
   "execution_count": 3,
   "id": "ccb1af7c-e440-484a-9cf6-b645514f0040",
   "metadata": {},
   "outputs": [],
   "source": [
    "import numpy as np\n",
    "import pandas as pd"
   ]
  },
  {
   "cell_type": "code",
   "execution_count": 22,
   "id": "fa6d6f9e-535a-4e26-ac63-946cc7efeb26",
   "metadata": {},
   "outputs": [],
   "source": [
    "df=pd.read_csv(\"placement.csv\")"
   ]
  },
  {
   "cell_type": "code",
   "execution_count": 23,
   "id": "25384d30-4478-44ef-a6ae-648fb2d61b32",
   "metadata": {},
   "outputs": [
    {
     "data": {
      "text/html": [
       "<div>\n",
       "<style scoped>\n",
       "    .dataframe tbody tr th:only-of-type {\n",
       "        vertical-align: middle;\n",
       "    }\n",
       "\n",
       "    .dataframe tbody tr th {\n",
       "        vertical-align: top;\n",
       "    }\n",
       "\n",
       "    .dataframe thead th {\n",
       "        text-align: right;\n",
       "    }\n",
       "</style>\n",
       "<table border=\"1\" class=\"dataframe\">\n",
       "  <thead>\n",
       "    <tr style=\"text-align: right;\">\n",
       "      <th></th>\n",
       "      <th>cgpa</th>\n",
       "      <th>placement_exam_marks</th>\n",
       "      <th>placed</th>\n",
       "    </tr>\n",
       "  </thead>\n",
       "  <tbody>\n",
       "    <tr>\n",
       "      <th>0</th>\n",
       "      <td>7.19</td>\n",
       "      <td>26.0</td>\n",
       "      <td>1</td>\n",
       "    </tr>\n",
       "    <tr>\n",
       "      <th>1</th>\n",
       "      <td>7.46</td>\n",
       "      <td>38.0</td>\n",
       "      <td>1</td>\n",
       "    </tr>\n",
       "    <tr>\n",
       "      <th>2</th>\n",
       "      <td>7.54</td>\n",
       "      <td>40.0</td>\n",
       "      <td>1</td>\n",
       "    </tr>\n",
       "    <tr>\n",
       "      <th>3</th>\n",
       "      <td>6.42</td>\n",
       "      <td>8.0</td>\n",
       "      <td>1</td>\n",
       "    </tr>\n",
       "    <tr>\n",
       "      <th>4</th>\n",
       "      <td>7.23</td>\n",
       "      <td>17.0</td>\n",
       "      <td>0</td>\n",
       "    </tr>\n",
       "  </tbody>\n",
       "</table>\n",
       "</div>"
      ],
      "text/plain": [
       "   cgpa  placement_exam_marks  placed\n",
       "0  7.19                  26.0       1\n",
       "1  7.46                  38.0       1\n",
       "2  7.54                  40.0       1\n",
       "3  6.42                   8.0       1\n",
       "4  7.23                  17.0       0"
      ]
     },
     "execution_count": 23,
     "metadata": {},
     "output_type": "execute_result"
    }
   ],
   "source": [
    "df.head()"
   ]
  },
  {
   "cell_type": "code",
   "execution_count": 24,
   "id": "b874c695-6ff8-4c99-bc4c-52b7fdd631e2",
   "metadata": {},
   "outputs": [],
   "source": [
    "df=df.iloc[:,:2]"
   ]
  },
  {
   "cell_type": "code",
   "execution_count": 25,
   "id": "b87557ed-6915-4b8f-a433-eeb505f59bc1",
   "metadata": {},
   "outputs": [
    {
     "data": {
      "text/html": [
       "<div>\n",
       "<style scoped>\n",
       "    .dataframe tbody tr th:only-of-type {\n",
       "        vertical-align: middle;\n",
       "    }\n",
       "\n",
       "    .dataframe tbody tr th {\n",
       "        vertical-align: top;\n",
       "    }\n",
       "\n",
       "    .dataframe thead th {\n",
       "        text-align: right;\n",
       "    }\n",
       "</style>\n",
       "<table border=\"1\" class=\"dataframe\">\n",
       "  <thead>\n",
       "    <tr style=\"text-align: right;\">\n",
       "      <th></th>\n",
       "      <th>cgpa</th>\n",
       "      <th>placement_exam_marks</th>\n",
       "    </tr>\n",
       "  </thead>\n",
       "  <tbody>\n",
       "    <tr>\n",
       "      <th>0</th>\n",
       "      <td>7.19</td>\n",
       "      <td>26.0</td>\n",
       "    </tr>\n",
       "    <tr>\n",
       "      <th>1</th>\n",
       "      <td>7.46</td>\n",
       "      <td>38.0</td>\n",
       "    </tr>\n",
       "    <tr>\n",
       "      <th>2</th>\n",
       "      <td>7.54</td>\n",
       "      <td>40.0</td>\n",
       "    </tr>\n",
       "    <tr>\n",
       "      <th>3</th>\n",
       "      <td>6.42</td>\n",
       "      <td>8.0</td>\n",
       "    </tr>\n",
       "    <tr>\n",
       "      <th>4</th>\n",
       "      <td>7.23</td>\n",
       "      <td>17.0</td>\n",
       "    </tr>\n",
       "  </tbody>\n",
       "</table>\n",
       "</div>"
      ],
      "text/plain": [
       "   cgpa  placement_exam_marks\n",
       "0  7.19                  26.0\n",
       "1  7.46                  38.0\n",
       "2  7.54                  40.0\n",
       "3  6.42                   8.0\n",
       "4  7.23                  17.0"
      ]
     },
     "execution_count": 25,
     "metadata": {},
     "output_type": "execute_result"
    }
   ],
   "source": [
    "df.head()"
   ]
  },
  {
   "cell_type": "code",
   "execution_count": 26,
   "id": "405b9123-f456-4950-908b-bd01f15090a0",
   "metadata": {},
   "outputs": [],
   "source": [
    "X = df.iloc[:,0].values\n",
    "y = df.iloc[:,1].values"
   ]
  },
  {
   "cell_type": "code",
   "execution_count": 27,
   "id": "cf31babd-a605-4a53-aa20-46928dd56bd3",
   "metadata": {},
   "outputs": [],
   "source": [
    "from sklearn.model_selection import train_test_split\n",
    "X_train,X_test,y_train,y_test = train_test_split(X,y,test_size=0.2,random_state=2)"
   ]
  },
  {
   "cell_type": "code",
   "execution_count": 28,
   "id": "32832cc2-eeaf-4a5f-b3e6-64f7dd435ed7",
   "metadata": {},
   "outputs": [
    {
     "data": {
      "text/plain": [
       "(800,)"
      ]
     },
     "execution_count": 28,
     "metadata": {},
     "output_type": "execute_result"
    }
   ],
   "source": [
    "X_train.shape"
   ]
  },
  {
   "cell_type": "code",
   "execution_count": 31,
   "id": "ee699a17-4485-4e61-b383-3b0ce8da32ef",
   "metadata": {},
   "outputs": [],
   "source": [
    "lr = LR()"
   ]
  },
  {
   "cell_type": "code",
   "execution_count": 32,
   "id": "1ec708d1-fd90-4815-b68d-5b1e8d54b093",
   "metadata": {},
   "outputs": [
    {
     "name": "stdout",
     "output_type": "stream",
     "text": [
      "-0.26502454516087415\n",
      "33.97578341892782\n"
     ]
    }
   ],
   "source": [
    "lr.fit(X_train,y_train)"
   ]
  },
  {
   "cell_type": "code",
   "execution_count": 33,
   "id": "db4474ea-379d-4d7f-9d52-e58d8b93c12c",
   "metadata": {},
   "outputs": [
    {
     "name": "stdout",
     "output_type": "stream",
     "text": [
      "[8.51 7.93 6.99 6.02 6.85 7.57 6.34 6.29 6.4  6.23 5.69 8.   7.75 6.54\n",
      " 7.51 6.36 6.52 6.5  6.5  6.13 6.62 8.04 6.4  7.52 6.75 6.42 6.25 6.67\n",
      " 7.46 6.65 6.19 6.15 6.99 7.02 6.71 6.75 6.69 7.13 6.75 7.38 6.81 8.12\n",
      " 6.1  7.46 6.6  5.7  8.48 7.22 6.24 6.78 7.1  6.84 6.66 6.68 6.56 6.89\n",
      " 7.48 6.33 6.29 8.04 6.87 7.37 6.48 7.52 7.3  6.58 6.51 7.37 7.45 6.77\n",
      " 8.49 7.07 6.46 6.06 7.7  6.41 7.06 7.19 7.12 7.85 7.   7.77 6.91 6.92\n",
      " 8.14 6.32 7.56 7.02 7.43 6.27 6.4  6.62 6.46 6.79 6.82 5.74 7.41 7.72\n",
      " 7.48 7.53 6.93 6.12 7.52 7.28 6.47 6.22 6.67 7.26 6.71 7.24 7.26 7.27\n",
      " 7.12 7.48 7.9  6.31 7.32 6.7  6.05 6.89 6.04 7.65 6.42 7.23 6.   6.23\n",
      " 7.19 8.27 6.97 6.46 5.27 5.99 6.14 5.51 7.6  6.56 7.19 6.3  5.56 7.07\n",
      " 7.33 6.71 6.98 7.31 7.02 7.55 6.92 7.61 6.44 7.2  8.05 6.89 7.55 5.56\n",
      " 7.3  7.37 7.46 6.16 6.79 7.67 6.74 5.65 6.8  7.12 6.99 6.88 7.66 7.4\n",
      " 6.91 6.42 6.12 7.28 6.49 6.87 6.28 7.46 6.11 7.23 7.36 6.42 8.04 7.64\n",
      " 7.77 7.1  7.24 6.76 6.1  5.86 6.39 6.19 5.81 5.94 6.85 7.1  7.55 6.44\n",
      " 7.14 6.94 7.09 6.39]\n"
     ]
    },
    {
     "data": {
      "text/plain": [
       "array([31.72042454, 31.87413878, 32.12326185, 32.38033566, 32.16036528,\n",
       "       31.96954761, 32.2955278 , 32.30877903, 32.27962633, 32.3246805 ,\n",
       "       32.46779376, 31.85558706, 31.92184319, 32.24252289, 31.98544908,\n",
       "       32.29022731, 32.24782338, 32.25312388, 32.25312388, 32.35118296,\n",
       "       32.22132093, 31.84498608, 32.27962633, 31.98279884, 32.18686774,\n",
       "       32.27432584, 32.31938001, 32.2080697 , 31.99870031, 32.21337019,\n",
       "       32.33528148, 32.34588247, 32.12326185, 32.11531111, 32.19746872,\n",
       "       32.18686774, 32.20276921, 32.08615841, 32.18686774, 32.01990228,\n",
       "       32.17096627, 31.82378411, 32.35913369, 31.99870031, 32.22662142,\n",
       "       32.46514351, 31.72837528, 32.0623062 , 32.32203026, 32.178917  ,\n",
       "       32.09410915, 32.16301553, 32.21071995, 32.20541946, 32.2372224 ,\n",
       "       32.1497643 , 31.99339982, 32.29817805, 32.30877903, 31.84498608,\n",
       "       32.15506479, 32.02255252, 32.25842437, 31.98279884, 32.04110424,\n",
       "       32.23192191, 32.25047363, 32.02255252, 32.00135056, 32.18156725,\n",
       "       31.72572503, 32.10205988, 32.26372486, 32.36973468, 31.93509442,\n",
       "       32.27697608, 32.10471013, 32.07025694, 32.08880866, 31.89534074,\n",
       "       32.1206116 , 31.9165427 , 32.14446381, 32.14181357, 31.81848362,\n",
       "       32.30082829, 31.97219786, 32.11531111, 32.00665105, 32.31407952,\n",
       "       32.27962633, 32.22132093, 32.26372486, 32.17626676, 32.16831602,\n",
       "       32.45454253, 32.01195154, 31.92979393, 31.99339982, 31.98014859,\n",
       "       32.13916332, 32.3538332 , 31.98279884, 32.04640473, 32.26107461,\n",
       "       32.32733075, 32.2080697 , 32.05170522, 32.19746872, 32.05700571,\n",
       "       32.05170522, 32.04905498, 32.08880866, 31.99339982, 31.88208951,\n",
       "       32.30347854, 32.03580375, 32.20011897, 32.37238492, 32.1497643 ,\n",
       "       32.37503517, 31.94834565, 32.27432584, 32.05965596, 32.38563615,\n",
       "       32.3246805 , 32.07025694, 31.78403043, 32.12856234, 32.26372486,\n",
       "       32.57910407, 32.38828639, 32.34853271, 32.51549818, 31.96159688,\n",
       "       32.2372224 , 32.07025694, 32.30612878, 32.50224695, 32.10205988,\n",
       "       32.0331535 , 32.19746872, 32.12591209, 32.03845399, 32.11531111,\n",
       "       31.9748481 , 32.14181357, 31.95894663, 32.26902535, 32.06760669,\n",
       "       31.84233583, 32.1497643 , 31.9748481 , 32.50224695, 32.04110424,\n",
       "       32.02255252, 31.99870031, 32.34323222, 32.17626676, 31.94304516,\n",
       "       32.18951798, 32.47839474, 32.17361651, 32.08880866, 32.12326185,\n",
       "       32.15241455, 31.9456954 , 32.01460178, 32.14446381, 32.27432584,\n",
       "       32.3538332 , 32.04640473, 32.25577412, 32.15506479, 32.31142928,\n",
       "       31.99870031, 32.35648345, 32.05965596, 32.02520277, 32.27432584,\n",
       "       31.84498608, 31.95099589, 31.9165427 , 32.09410915, 32.05700571,\n",
       "       32.18421749, 32.35913369, 32.42273958, 32.28227658, 32.33528148,\n",
       "       32.43599081, 32.40153762, 32.16036528, 32.09410915, 31.9748481 ,\n",
       "       32.26902535, 32.08350817, 32.13651308, 32.09675939, 32.28227658])"
      ]
     },
     "execution_count": 33,
     "metadata": {},
     "output_type": "execute_result"
    }
   ],
   "source": [
    "lr.predict(X_test)"
   ]
  },
  {
   "cell_type": "code",
   "execution_count": 34,
   "id": "a803381f-9961-4901-b974-7eae77298ab7",
   "metadata": {},
   "outputs": [
    {
     "data": {
      "text/plain": [
       "7.57"
      ]
     },
     "execution_count": 34,
     "metadata": {},
     "output_type": "execute_result"
    }
   ],
   "source": [
    "X_train[0]"
   ]
  },
  {
   "cell_type": "code",
   "execution_count": 35,
   "id": "efb7c419-621f-4499-8b7c-d15a128b5ff0",
   "metadata": {},
   "outputs": [
    {
     "data": {
      "text/plain": [
       "6.978725"
      ]
     },
     "execution_count": 35,
     "metadata": {},
     "output_type": "execute_result"
    }
   ],
   "source": [
    "X_train.mean()"
   ]
  },
  {
   "cell_type": "code",
   "execution_count": 36,
   "id": "852eab1c-ffa4-4a67-a621-39894835d235",
   "metadata": {},
   "outputs": [
    {
     "name": "stdout",
     "output_type": "stream",
     "text": [
      "8.51\n",
      "31.72042453960878\n"
     ]
    }
   ],
   "source": [
    "print(lr.predict(X_test[0]))"
   ]
  },
  {
   "cell_type": "code",
   "execution_count": null,
   "id": "c98ab83f-ed95-4a8d-9b14-cc7c49b8577e",
   "metadata": {},
   "outputs": [],
   "source": []
  }
 ],
 "metadata": {
  "kernelspec": {
   "display_name": "Python 3 (ipykernel)",
   "language": "python",
   "name": "python3"
  },
  "language_info": {
   "codemirror_mode": {
    "name": "ipython",
    "version": 3
   },
   "file_extension": ".py",
   "mimetype": "text/x-python",
   "name": "python",
   "nbconvert_exporter": "python",
   "pygments_lexer": "ipython3",
   "version": "3.12.1"
  }
 },
 "nbformat": 4,
 "nbformat_minor": 5
}

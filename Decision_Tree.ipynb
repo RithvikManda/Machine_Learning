{
 "cells": [
  {
   "cell_type": "code",
   "execution_count": 7,
   "id": "f146d84a-ec76-49b4-8ea3-71fb6878cf19",
   "metadata": {},
   "outputs": [],
   "source": [
    "import numpy as np\n",
    "import pandas as pd\n",
    "import matplotlib.pyplot as plt\n",
    "from sklearn.tree import DecisionTreeClassifier"
   ]
  },
  {
   "cell_type": "code",
   "execution_count": 8,
   "id": "e5b9a6f1-81da-434c-ac4b-4b1d1eeb3fac",
   "metadata": {},
   "outputs": [],
   "source": [
    "def anal(max_depth):\n",
    "    data =pd.read_csv(\"Social_Network_Ads.csv\")\n",
    "    X=data.iloc[:,2:4].values\n",
    "    y=data.iloc[:,-1].values\n",
    "\n",
    "    clf=DecisionTreeClassifier(max_depth=max_depth)\n",
    "    clf.fit(X,y)\n",
    "    a=np.arange(start=X[:,0].min()-1,stop=X[:,0].max()+1,step=0.1)\n",
    "    b=np.arange(start=X[:,1].min()-1,stop=X[:,1].max()+1,step=100)\n",
    "\n",
    "    XX,YY=np.meshgrid(a,b)\n",
    "    input_array=np.array([XX.ravel(),YY.ravel()]).T\n",
    "    labels=clf.predict(input_array)\n",
    "    plt.contour(XX,YY,labels.reshape(XX.shape),alpha=0.5)\n",
    "    plt.scatter(X[:,0],X[:,1],c=y)"
   ]
  },
  {
   "cell_type": "code",
   "execution_count": null,
   "id": "29fc1435-8d0a-4ab0-852a-b6d8ff8c7c25",
   "metadata": {},
   "outputs": [],
   "source": [
    "anal(max_depth=0"
   ]
  }
 ],
 "metadata": {
  "kernelspec": {
   "display_name": "Python 3 (ipykernel)",
   "language": "python",
   "name": "python3"
  },
  "language_info": {
   "codemirror_mode": {
    "name": "ipython",
    "version": 3
   },
   "file_extension": ".py",
   "mimetype": "text/x-python",
   "name": "python",
   "nbconvert_exporter": "python",
   "pygments_lexer": "ipython3",
   "version": "3.12.1"
  }
 },
 "nbformat": 4,
 "nbformat_minor": 5
}
